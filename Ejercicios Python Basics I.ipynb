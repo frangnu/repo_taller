{
 "cells": [
  {
   "cell_type": "markdown",
   "metadata": {},
   "source": [
    "![imagen](../../imagenes/ejercicios.png)"
   ]
  },
  {
   "cell_type": "markdown",
   "metadata": {},
   "source": [
    "# Ejercicios Python Basics I"
   ]
  },
  {
   "cell_type": "markdown",
   "metadata": {},
   "source": [
    "## Ejercicio 1\n",
    "Imprime por pantalla estas frases con el siguiente formato\n",
    "\n",
    "![imagen](../../imagenes/frase_Einstein.PNG)"
   ]
  },
  {
   "cell_type": "code",
   "execution_count": 21,
   "metadata": {},
   "outputs": [
    {
     "name": "stdout",
     "output_type": "stream",
     "text": [
      "¿Por qué esta magnífica tecnología cinetífica,\n",
      "\tque ahorra trabajo y nos hace la vida más fácil,\n",
      "\t\tnos aporta tan poca felicidad?\n",
      "\t\t\tLa respuesta es está, simplemente: porque aún no hemos aprencido a usarla con tino.\n",
      "\"Albert Eintein\" \n"
     ]
    }
   ],
   "source": [
    "print(\"\"\"¿Por qué esta magnífica tecnología cinetífica,\\n\\tque ahorra trabajo y nos hace la vida más fácil,\\n\\t\\tnos aporta tan poca felicidad?\\n\\t\\t\\tLa respuesta es está, simplemente: porque aún no hemos aprencido a usarla con tino.\\n\"Albert Eintein\" \"\"\")"
   ]
  },
  {
   "cell_type": "markdown",
   "metadata": {},
   "source": [
    "## Ejercicio 2\n",
    "1. Escribe el nombre de tu calle en un variable\n",
    "2. Escribe el numero donde vives en otra\n",
    "3. Población en una tercera\n",
    "4. Codigo postal en la cuarta variable\n",
    "5. Crea una quinta variable que concatene todas ellas\n",
    "6. Imprimela por pantalla"
   ]
  },
  {
   "cell_type": "code",
   "execution_count": 27,
   "metadata": {},
   "outputs": [
    {
     "name": "stdout",
     "output_type": "stream",
     "text": [
      "Lope de Vega 50 Fuente-Álamo 12651\n"
     ]
    }
   ],
   "source": [
    "nombre_calle = \"Lope de Vega\"\n",
    "numero_casa = 50\n",
    "poblacion_casa = \"Fuente-Álamo\"\n",
    "cp = 12651\n",
    "residencia = nombre_calle + \" \" + str(numero_casa)+ \" \" + poblacion_casa + \" \" + str(cp)\n",
    "print(residencia)"
   ]
  },
  {
   "cell_type": "markdown",
   "metadata": {},
   "source": [
    "## Ejercicio 3\n",
    "Replica el output del ejercicio dos, pero está vez sin usar una variable intermedia que concatene todas las demas. Realiza este ejercicio en una línea, con un  único `print`"
   ]
  },
  {
   "cell_type": "code",
   "execution_count": 30,
   "metadata": {},
   "outputs": [
    {
     "name": "stdout",
     "output_type": "stream",
     "text": [
      "Lope de Vega 50 Fuente-Álamo 12651\n"
     ]
    }
   ],
   "source": [
    "print(nombre_calle, numero_casa, poblacion_casa, cp)"
   ]
  },
  {
   "cell_type": "markdown",
   "metadata": {},
   "source": [
    "## Ejercicio 4\n",
    "¿Qué variables están mal escritas y por qué? Realiza primero tu hipótesis y luego ejecuta las variables para comprobarlo. En ese orden :)\n",
    "\n",
    "\n",
    "1. mi_variable = \"Economía\" # bien\n",
    "2. otra_var = \"Ejercicio # falta \" al fina\n",
    "3. True = \"Ejercicio\" # palabra reservada para nombre de variable\n",
    "4. mi variab1e = \"Alpha\"  # espacio en el nombre de la variable y tiene un 1\n",
    "5. exec = True # Bien\n",
    "6. import = 40 # palabra reservada\n",
    "7. 81mi_variable = \"Agua\" # numero al principio del nombre, debe ir al final\n",
    "8. mi_variable10 = 6 # bien"
   ]
  },
  {
   "cell_type": "markdown",
   "metadata": {},
   "source": [
    "1.  mi_variable = \"Economía\"\n",
    "2. otra_var = \"Ejercicio\"\n",
    "3. True = \"Ejercicio\"\n",
    "4. mi_variable = \"Alpha\" \n",
    "5. exec = True\n",
    "6. import = 40\n",
    "7. mi_variable81 = \"Agua\"\n",
    "8. mi_variable10 = 6"
   ]
  },
  {
   "cell_type": "markdown",
   "metadata": {},
   "source": [
    "## Ejercicio 5\n",
    "Realiza un conversor de grados Celsius a Fahrenheit. El conversor tiene que recibir el input del usuario y devolver la conversión.\n",
    "\n",
    "La conversión de grados sigue la siguiente fórmula: F = (C × 9 / 5) + 32 "
   ]
  },
  {
   "cell_type": "code",
   "execution_count": 33,
   "metadata": {},
   "outputs": [
    {
     "name": "stdin",
     "output_type": "stream",
     "text": [
      "Introduce grados Celsius 25.74\n"
     ]
    },
    {
     "name": "stdout",
     "output_type": "stream",
     "text": [
      "Los grados Fahrenheit son 78.332\n"
     ]
    }
   ],
   "source": [
    "grados_input = float(input(\"Introduce grados Celsius\")) # introducción número decimal\n",
    "resultado = (grados_input * 9 /5) + 32\n",
    "'''\n",
    "ponemos ver la fórmula\n",
    "para convertir\n",
    "'''\n",
    "print(\"Los grados Fahrenheit son %s\" % (resultado))"
   ]
  },
  {
   "cell_type": "markdown",
   "metadata": {},
   "source": [
    "## Ejercicio 6\n",
    "Comenta en la medida de lo posible el Ejercicio 5. Será suficiente con poner al menos un comentario de línea, y otro multilínea"
   ]
  },
  {
   "cell_type": "code",
   "execution_count": null,
   "metadata": {},
   "outputs": [],
   "source": []
  }
 ],
 "metadata": {
  "kernelspec": {
   "display_name": "Python 3",
   "language": "python",
   "name": "python3"
  },
  "language_info": {
   "codemirror_mode": {
    "name": "ipython",
    "version": 3
   },
   "file_extension": ".py",
   "mimetype": "text/x-python",
   "name": "python",
   "nbconvert_exporter": "python",
   "pygments_lexer": "ipython3",
   "version": "3.7.6"
  }
 },
 "nbformat": 4,
 "nbformat_minor": 4
}
